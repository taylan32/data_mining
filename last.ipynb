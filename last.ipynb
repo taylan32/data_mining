{
 "cells": [
  {
   "cell_type": "markdown",
   "metadata": {},
   "source": [
    "# Import Libraries"
   ]
  },
  {
   "cell_type": "code",
   "execution_count": 19,
   "metadata": {},
   "outputs": [],
   "source": [
    "import glob\n",
    "import pandas as pd\n",
    "from sklearn.model_selection import train_test_split\n",
    "from sklearn.ensemble import RandomForestClassifier\n",
    "from sklearn.metrics import confusion_matrix, classification_report\n",
    "from sklearn.neighbors import KNeighborsClassifier\n",
    "from sklearn.svm import SVC\n",
    "from sklearn.tree import DecisionTreeClassifier\n",
    "from sklearn.model_selection import GridSearchCV\n",
    "from sklearn.metrics import mean_squared_error"
   ]
  },
  {
   "cell_type": "markdown",
   "metadata": {},
   "source": [
    "# Load Dataset"
   ]
  },
  {
   "cell_type": "code",
   "execution_count": 20,
   "metadata": {},
   "outputs": [],
   "source": [
    "basePath = \"C:\\\\Users\\\\taylan\\\\Desktop\\\\data_mining\\\\data\"\n",
    "\n",
    "files = glob.glob(basePath + \"/*\")\n",
    "isFirst = True\n",
    "dataFrame = \"\"\n",
    "\n",
    "for i in files:\n",
    "    for j in glob.glob(i+\"/*\"):\n",
    "        if len(j.split(\".\")) == 1 :\n",
    "            for k in glob.glob(j + \"/*\"):\n",
    "                if isFirst == True:\n",
    "                    dataFrame = pd.read_json(k)\n",
    "                    isFirst = False\n",
    "                else:\n",
    "                    dataFrame = pd.concat([dataFrame, pd.read_json(k)], ignore_index=True)\n",
    "                \n",
    "        else:\n",
    "            dataFrame = pd.concat([dataFrame, pd.read_json(j)], ignore_index=True)"
   ]
  },
  {
   "cell_type": "markdown",
   "metadata": {},
   "source": [
    "# Preprocessing"
   ]
  },
  {
   "cell_type": "code",
   "execution_count": 21,
   "metadata": {},
   "outputs": [],
   "source": [
    "dataFrame = dataFrame.drop([\"tags\", \"pool_id\", \"sandbox_id\", \"timestamp_str\", \"ip\"], axis=1)"
   ]
  },
  {
   "cell_type": "code",
   "execution_count": 22,
   "metadata": {},
   "outputs": [],
   "source": [
    "dataFrame = dataFrame[dataFrame[\"cmd\"].isnull() == False]\n",
    "dataFrame = dataFrame[dataFrame[\"cmd_type\"].isnull() == False]"
   ]
  },
  {
   "cell_type": "code",
   "execution_count": 23,
   "metadata": {},
   "outputs": [],
   "source": [
    "import re\n",
    "\n",
    "def remove_non_english_words(text):\n",
    "    english_word_pattern = re.compile(r'\\b[a-zA-Z]+\\b')\n",
    "\n",
    "    english_words = english_word_pattern.findall(text)\n",
    "    \n",
    "    result_text = ' '.join(english_words)\n",
    "    \n",
    "    return result_text"
   ]
  },
  {
   "cell_type": "code",
   "execution_count": 24,
   "metadata": {},
   "outputs": [
    {
     "data": {
      "text/html": [
       "<div>\n",
       "<style scoped>\n",
       "    .dataframe tbody tr th:only-of-type {\n",
       "        vertical-align: middle;\n",
       "    }\n",
       "\n",
       "    .dataframe tbody tr th {\n",
       "        vertical-align: top;\n",
       "    }\n",
       "\n",
       "    .dataframe thead th {\n",
       "        text-align: right;\n",
       "    }\n",
       "</style>\n",
       "<table border=\"1\" class=\"dataframe\">\n",
       "  <thead>\n",
       "    <tr style=\"text-align: right;\">\n",
       "      <th></th>\n",
       "      <th>cmd_type</th>\n",
       "      <th>hostname</th>\n",
       "      <th>cmd</th>\n",
       "      <th>username</th>\n",
       "      <th>wd</th>\n",
       "    </tr>\n",
       "  </thead>\n",
       "  <tbody>\n",
       "    <tr>\n",
       "      <th>0</th>\n",
       "      <td>bash-command</td>\n",
       "      <td>attacker</td>\n",
       "      <td>nmap</td>\n",
       "      <td>root</td>\n",
       "      <td>root</td>\n",
       "    </tr>\n",
       "    <tr>\n",
       "      <th>1</th>\n",
       "      <td>bash-command</td>\n",
       "      <td>attacker</td>\n",
       "      <td>nmap</td>\n",
       "      <td>root</td>\n",
       "      <td>root</td>\n",
       "    </tr>\n",
       "    <tr>\n",
       "      <th>2</th>\n",
       "      <td>bash-command</td>\n",
       "      <td>attacker</td>\n",
       "      <td>service</td>\n",
       "      <td>root</td>\n",
       "      <td>root</td>\n",
       "    </tr>\n",
       "    <tr>\n",
       "      <th>3</th>\n",
       "      <td>bash-command</td>\n",
       "      <td>attacker</td>\n",
       "      <td>msfdb</td>\n",
       "      <td>root</td>\n",
       "      <td>root</td>\n",
       "    </tr>\n",
       "    <tr>\n",
       "      <th>4</th>\n",
       "      <td>bash-command</td>\n",
       "      <td>attacker</td>\n",
       "      <td>msfconsole</td>\n",
       "      <td>root</td>\n",
       "      <td>root</td>\n",
       "    </tr>\n",
       "    <tr>\n",
       "      <th>...</th>\n",
       "      <td>...</td>\n",
       "      <td>...</td>\n",
       "      <td>...</td>\n",
       "      <td>...</td>\n",
       "      <td>...</td>\n",
       "    </tr>\n",
       "    <tr>\n",
       "      <th>21103</th>\n",
       "      <td>bash-command</td>\n",
       "      <td>attacker</td>\n",
       "      <td>msfconsole</td>\n",
       "      <td>root</td>\n",
       "      <td>root</td>\n",
       "    </tr>\n",
       "    <tr>\n",
       "      <th>21104</th>\n",
       "      <td>msf-command</td>\n",
       "      <td>attacker</td>\n",
       "      <td>use</td>\n",
       "      <td>unknown</td>\n",
       "      <td>unknown</td>\n",
       "    </tr>\n",
       "    <tr>\n",
       "      <th>21105</th>\n",
       "      <td>msf-command</td>\n",
       "      <td>attacker</td>\n",
       "      <td>exploit</td>\n",
       "      <td>unknown</td>\n",
       "      <td>unknown</td>\n",
       "    </tr>\n",
       "    <tr>\n",
       "      <th>21106</th>\n",
       "      <td>msf-command</td>\n",
       "      <td>attacker</td>\n",
       "      <td>exit</td>\n",
       "      <td>unknown</td>\n",
       "      <td>unknown</td>\n",
       "    </tr>\n",
       "    <tr>\n",
       "      <th>21107</th>\n",
       "      <td>bash-command</td>\n",
       "      <td>attacker</td>\n",
       "      <td>msfconsole</td>\n",
       "      <td>root</td>\n",
       "      <td>root</td>\n",
       "    </tr>\n",
       "  </tbody>\n",
       "</table>\n",
       "<p>21089 rows × 5 columns</p>\n",
       "</div>"
      ],
      "text/plain": [
       "           cmd_type  hostname         cmd username       wd\n",
       "0      bash-command  attacker        nmap     root     root\n",
       "1      bash-command  attacker        nmap     root     root\n",
       "2      bash-command  attacker     service     root     root\n",
       "3      bash-command  attacker       msfdb     root     root\n",
       "4      bash-command  attacker  msfconsole     root     root\n",
       "...             ...       ...         ...      ...      ...\n",
       "21103  bash-command  attacker  msfconsole     root     root\n",
       "21104   msf-command  attacker         use  unknown  unknown\n",
       "21105   msf-command  attacker     exploit  unknown  unknown\n",
       "21106   msf-command  attacker        exit  unknown  unknown\n",
       "21107  bash-command  attacker  msfconsole     root     root\n",
       "\n",
       "[21089 rows x 5 columns]"
      ]
     },
     "execution_count": 24,
     "metadata": {},
     "output_type": "execute_result"
    }
   ],
   "source": [
    "commandList = dataFrame[\"cmd\"]\n",
    "commandListParametersRemoved = [] # initially empty list\n",
    "for item in commandList:\n",
    "    item = (item.split(\" \")[0]).split(\"_\")[0]\n",
    "    item = remove_non_english_words(item)\n",
    "    commandListParametersRemoved.append(item)\n",
    "dataFrame[\"cmd\"] = commandListParametersRemoved\n",
    "\n",
    "dataFrame[\"username\"] = dataFrame[\"username\"].fillna(\"unknown\")\n",
    "dataFrame[\"wd\"] = dataFrame[\"wd\"].fillna(\"unknown\")\n",
    "\n",
    "\n",
    "\n",
    "wdListRemoved = []\n",
    "for item in dataFrame[\"wd\"]:\n",
    "    if \"/\" in item:\n",
    "        item = item.split(\"/\")[1]\n",
    "    wdListRemoved.append(item)\n",
    "\n",
    "dataFrame[\"wd\"] = wdListRemoved\n",
    "\n",
    "dataFrame\n"
   ]
  },
  {
   "cell_type": "code",
   "execution_count": 25,
   "metadata": {},
   "outputs": [],
   "source": [
    "dataFrame = dataFrame[dataFrame[\"cmd\"].str.strip() != '']\n",
    "dataFrame = dataFrame[dataFrame[\"username\"].str.strip() != '']\n",
    "dataFrame = dataFrame[dataFrame[\"wd\"].str.strip() != '']"
   ]
  },
  {
   "cell_type": "markdown",
   "metadata": {},
   "source": [
    "##"
   ]
  },
  {
   "cell_type": "code",
   "execution_count": 26,
   "metadata": {},
   "outputs": [
    {
     "data": {
      "text/html": [
       "<div>\n",
       "<style scoped>\n",
       "    .dataframe tbody tr th:only-of-type {\n",
       "        vertical-align: middle;\n",
       "    }\n",
       "\n",
       "    .dataframe tbody tr th {\n",
       "        vertical-align: top;\n",
       "    }\n",
       "\n",
       "    .dataframe thead th {\n",
       "        text-align: right;\n",
       "    }\n",
       "</style>\n",
       "<table border=\"1\" class=\"dataframe\">\n",
       "  <thead>\n",
       "    <tr style=\"text-align: right;\">\n",
       "      <th></th>\n",
       "      <th>cmd</th>\n",
       "      <th>username</th>\n",
       "      <th>hostname</th>\n",
       "      <th>wd</th>\n",
       "      <th>cmd_type</th>\n",
       "    </tr>\n",
       "  </thead>\n",
       "  <tbody>\n",
       "    <tr>\n",
       "      <th>0</th>\n",
       "      <td>1</td>\n",
       "      <td>1</td>\n",
       "      <td>1</td>\n",
       "      <td>1</td>\n",
       "      <td>1</td>\n",
       "    </tr>\n",
       "    <tr>\n",
       "      <th>1</th>\n",
       "      <td>1</td>\n",
       "      <td>1</td>\n",
       "      <td>1</td>\n",
       "      <td>1</td>\n",
       "      <td>1</td>\n",
       "    </tr>\n",
       "    <tr>\n",
       "      <th>2</th>\n",
       "      <td>2</td>\n",
       "      <td>1</td>\n",
       "      <td>1</td>\n",
       "      <td>1</td>\n",
       "      <td>1</td>\n",
       "    </tr>\n",
       "    <tr>\n",
       "      <th>3</th>\n",
       "      <td>3</td>\n",
       "      <td>1</td>\n",
       "      <td>1</td>\n",
       "      <td>1</td>\n",
       "      <td>1</td>\n",
       "    </tr>\n",
       "    <tr>\n",
       "      <th>4</th>\n",
       "      <td>4</td>\n",
       "      <td>1</td>\n",
       "      <td>1</td>\n",
       "      <td>1</td>\n",
       "      <td>1</td>\n",
       "    </tr>\n",
       "    <tr>\n",
       "      <th>...</th>\n",
       "      <td>...</td>\n",
       "      <td>...</td>\n",
       "      <td>...</td>\n",
       "      <td>...</td>\n",
       "      <td>...</td>\n",
       "    </tr>\n",
       "    <tr>\n",
       "      <th>19649</th>\n",
       "      <td>4</td>\n",
       "      <td>1</td>\n",
       "      <td>1</td>\n",
       "      <td>1</td>\n",
       "      <td>1</td>\n",
       "    </tr>\n",
       "    <tr>\n",
       "      <th>19650</th>\n",
       "      <td>8</td>\n",
       "      <td>2</td>\n",
       "      <td>1</td>\n",
       "      <td>2</td>\n",
       "      <td>2</td>\n",
       "    </tr>\n",
       "    <tr>\n",
       "      <th>19651</th>\n",
       "      <td>11</td>\n",
       "      <td>2</td>\n",
       "      <td>1</td>\n",
       "      <td>2</td>\n",
       "      <td>2</td>\n",
       "    </tr>\n",
       "    <tr>\n",
       "      <th>19652</th>\n",
       "      <td>14</td>\n",
       "      <td>2</td>\n",
       "      <td>1</td>\n",
       "      <td>2</td>\n",
       "      <td>2</td>\n",
       "    </tr>\n",
       "    <tr>\n",
       "      <th>19653</th>\n",
       "      <td>4</td>\n",
       "      <td>1</td>\n",
       "      <td>1</td>\n",
       "      <td>1</td>\n",
       "      <td>1</td>\n",
       "    </tr>\n",
       "  </tbody>\n",
       "</table>\n",
       "<p>19654 rows × 5 columns</p>\n",
       "</div>"
      ],
      "text/plain": [
       "       cmd  username  hostname  wd  cmd_type\n",
       "0        1         1         1   1         1\n",
       "1        1         1         1   1         1\n",
       "2        2         1         1   1         1\n",
       "3        3         1         1   1         1\n",
       "4        4         1         1   1         1\n",
       "...    ...       ...       ...  ..       ...\n",
       "19649    4         1         1   1         1\n",
       "19650    8         2         1   2         2\n",
       "19651   11         2         1   2         2\n",
       "19652   14         2         1   2         2\n",
       "19653    4         1         1   1         1\n",
       "\n",
       "[19654 rows x 5 columns]"
      ]
     },
     "execution_count": 26,
     "metadata": {},
     "output_type": "execute_result"
    }
   ],
   "source": [
    "newDataFrame = pd.DataFrame()\n",
    "newDataFrame[\"cmd\"] = pd.factorize(dataFrame[\"cmd\"])[0] + 1\n",
    "newDataFrame[\"username\"] = pd.factorize(dataFrame[\"username\"])[0] + 1\n",
    "newDataFrame[\"hostname\"] = pd.factorize(dataFrame[\"hostname\"])[0] + 1\n",
    "newDataFrame[\"wd\"] = pd.factorize(dataFrame[\"wd\"])[0] + 1\n",
    "newDataFrame[\"cmd_type\"] = pd.factorize(dataFrame[\"cmd_type\"])[0] + 1\n",
    "newDataFrame\n"
   ]
  },
  {
   "cell_type": "code",
   "execution_count": 27,
   "metadata": {},
   "outputs": [],
   "source": [
    "x = newDataFrame.drop([\"cmd_type\"], axis=1).values\n",
    "y = newDataFrame[\"cmd_type\"].values"
   ]
  },
  {
   "cell_type": "markdown",
   "metadata": {},
   "source": [
    "# Train, Test Split"
   ]
  },
  {
   "cell_type": "code",
   "execution_count": 28,
   "metadata": {},
   "outputs": [],
   "source": [
    "X_train, X_test, y_train, y_test = train_test_split(x, y, test_size=0.4, random_state=42)\n"
   ]
  },
  {
   "cell_type": "code",
   "execution_count": 29,
   "metadata": {},
   "outputs": [
    {
     "data": {
      "text/plain": [
       "(array([[21,  2,  1,  2],\n",
       "        [61,  2,  1,  2],\n",
       "        [63,  1,  4,  3],\n",
       "        ...,\n",
       "        [92,  1,  1,  1],\n",
       "        [10,  2,  1,  2],\n",
       "        [42,  7,  1,  3]], dtype=int64),\n",
       " array([[  6,   2,   1,   2],\n",
       "        [  4,   1,   1,   1],\n",
       "        [  8,   2,   1,   2],\n",
       "        ...,\n",
       "        [  8,   2,   1,   2],\n",
       "        [270,   7,   1,   3],\n",
       "        [ 15,   1,   4,   6]], dtype=int64))"
      ]
     },
     "execution_count": 29,
     "metadata": {},
     "output_type": "execute_result"
    }
   ],
   "source": [
    "X_train, X_test"
   ]
  },
  {
   "cell_type": "code",
   "execution_count": 30,
   "metadata": {},
   "outputs": [
    {
     "data": {
      "text/plain": [
       "(array([2, 2, 1, ..., 1, 2, 1], dtype=int64),\n",
       " array([2, 1, 2, ..., 2, 1, 1], dtype=int64))"
      ]
     },
     "execution_count": 30,
     "metadata": {},
     "output_type": "execute_result"
    }
   ],
   "source": [
    "y_train, y_test"
   ]
  },
  {
   "cell_type": "markdown",
   "metadata": {},
   "source": [
    "# Train Model"
   ]
  },
  {
   "cell_type": "code",
   "execution_count": 31,
   "metadata": {},
   "outputs": [
    {
     "name": "stdout",
     "output_type": "stream",
     "text": [
      "estimator RandomForestClassifier(n_estimators=1)\n",
      "score 100.0\n",
      "mse 0.0\n",
      "estimator KNeighborsClassifier(n_neighbors=1)\n",
      "score 99.56750912625603\n",
      "mse 0.0035614347494276268\n",
      "estimator DecisionTreeClassifier(criterion='entropy')\n",
      "score 100.0\n",
      "mse 0.0\n",
      "estimator SVC(C=1.2)\n",
      "score 84.65906292145901\n",
      "mse 0.1545408293055202\n"
     ]
    }
   ],
   "source": [
    "randomForest = RandomForestClassifier()\n",
    "knn = KNeighborsClassifier()\n",
    "dtc = DecisionTreeClassifier()\n",
    "svc = SVC()\n",
    "\n",
    "modelList = [randomForest, knn, dtc, svc]\n",
    "parameters = [{\"n_estimators\": range(1,30)}, \n",
    "              {\"n_neighbors\": range(1,30)}, \n",
    "              {\"criterion\":['gini', 'entropy', 'log_loss']}, \n",
    "              {\"C\": [1.0, 1.1, 1.2,1.3, 1.4,1.5]}\n",
    "              ]\n",
    "\n",
    "for i in range(len(modelList)):\n",
    "    grid = GridSearchCV(estimator=modelList[i], param_grid=parameters[i], cv=5)\n",
    "    grid.fit(X_train, y_train)\n",
    "    print(\"estimator\", grid.best_estimator_)\n",
    "    print(\"score\", grid.best_score_*100)\n",
    "    y_predict = grid.predict(X_test)\n",
    "    mse = mean_squared_error(y_pred= y_predict, y_true=y_test)\n",
    "    print(\"mse\", mse)\n",
    "\n",
    "\n",
    "    "
   ]
  },
  {
   "cell_type": "markdown",
   "metadata": {},
   "source": [
    "# Visualize Results"
   ]
  },
  {
   "cell_type": "code",
   "execution_count": 32,
   "metadata": {},
   "outputs": [
    {
     "name": "stdout",
     "output_type": "stream",
     "text": [
      "[[4899 1004]\n",
      " [ 211 1748]]\n"
     ]
    }
   ],
   "source": [
    "confusionMatrix = confusion_matrix(y_true=y_test, y_pred=y_predict)\n",
    "print(confusionMatrix)"
   ]
  },
  {
   "cell_type": "code",
   "execution_count": 33,
   "metadata": {},
   "outputs": [
    {
     "data": {
      "image/png": "[encoded data removed]",
      "text/plain": [
       "<Figure size 640x480 with 2 Axes>"
      ]
     },
     "metadata": {},
     "output_type": "display_data"
    }
   ],
   "source": [
    "import seaborn\n",
    "seaborn.heatmap(confusionMatrix, annot=True, fmt=\"d\", cmap=\"PuBuGn\")\n",
    "import matplotlib.pyplot as plt \n",
    "plt.xlabel(\"y_pred\")\n",
    "plt.ylabel(\"y_true\")\n",
    "plt.show()"
   ]
  },
  {
   "cell_type": "code",
   "execution_count": 34,
   "metadata": {},
   "outputs": [
    {
     "name": "stdout",
     "output_type": "stream",
     "text": [
      "              precision    recall  f1-score   support\n",
      "\n",
      "           1       0.96      0.83      0.89      5903\n",
      "           2       0.64      0.89      0.74      1959\n",
      "\n",
      "    accuracy                           0.85      7862\n",
      "   macro avg       0.80      0.86      0.82      7862\n",
      "weighted avg       0.88      0.85      0.85      7862\n",
      "\n"
     ]
    }
   ],
   "source": [
    "report = classification_report(y_pred = y_predict, y_true=y_test)\n",
    "print(report)\n"
   ]
  }
 ],
 "metadata": {
  "kernelspec": {
   "display_name": "Python 3",
   "language": "python",
   "name": "python3"
  },
  "language_info": {
   "codemirror_mode": {
    "name": "ipython",
    "version": 3
   },
   "file_extension": ".py",
   "mimetype": "text/x-python",
   "name": "python",
   "nbconvert_exporter": "python",
   "pygments_lexer": "ipython3",
   "version": "3.11.1"
  }
 },
 "nbformat": 4,
 "nbformat_minor": 2
}
