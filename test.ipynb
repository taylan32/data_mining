{
 "cells": [
  {
   "cell_type": "markdown",
   "metadata": {},
   "source": [
    "# import libraries"
   ]
  },
  {
   "cell_type": "code",
   "execution_count": 1,
   "metadata": {},
   "outputs": [],
   "source": [
    "\n",
    "import pandas as pd"
   ]
  },
  {
   "cell_type": "markdown",
   "metadata": {},
   "source": [
    "# import data"
   ]
  },
  {
   "cell_type": "code",
   "execution_count": 2,
   "metadata": {},
   "outputs": [],
   "source": [
    "data = pd.read_json(\"./data/House of cards/2019-08-15 KYPO Summer School/sandbox-396-useractions.json\")"
   ]
  },
  {
   "cell_type": "code",
   "execution_count": 9,
   "metadata": {},
   "outputs": [
    {
     "data": {
      "text/html": [
       "<div>\n",
       "<style scoped>\n",
       "    .dataframe tbody tr th:only-of-type {\n",
       "        vertical-align: middle;\n",
       "    }\n",
       "\n",
       "    .dataframe tbody tr th {\n",
       "        vertical-align: top;\n",
       "    }\n",
       "\n",
       "    .dataframe thead th {\n",
       "        text-align: right;\n",
       "    }\n",
       "</style>\n",
       "<table border=\"1\" class=\"dataframe\">\n",
       "  <thead>\n",
       "    <tr style=\"text-align: right;\">\n",
       "      <th></th>\n",
       "      <th>cmd_type</th>\n",
       "      <th>pool_id</th>\n",
       "      <th>timestamp_str</th>\n",
       "      <th>hostname</th>\n",
       "      <th>cmd</th>\n",
       "      <th>ip</th>\n",
       "      <th>username</th>\n",
       "      <th>wd</th>\n",
       "    </tr>\n",
       "  </thead>\n",
       "  <tbody>\n",
       "    <tr>\n",
       "      <th>0</th>\n",
       "      <td>bash-command</td>\n",
       "      <td>0</td>\n",
       "      <td>2019-08-14 15:40:19.345589+00:00</td>\n",
       "      <td>attacker</td>\n",
       "      <td>nmap 172.18.1.5</td>\n",
       "      <td>10.0.135.83</td>\n",
       "      <td>root</td>\n",
       "      <td>/root</td>\n",
       "    </tr>\n",
       "    <tr>\n",
       "      <th>1</th>\n",
       "      <td>bash-command</td>\n",
       "      <td>0</td>\n",
       "      <td>2019-08-14 15:40:34.470540+00:00</td>\n",
       "      <td>attacker</td>\n",
       "      <td>nmap -A -p 22 172.18.1.5</td>\n",
       "      <td>10.0.135.83</td>\n",
       "      <td>root</td>\n",
       "      <td>/root</td>\n",
       "    </tr>\n",
       "    <tr>\n",
       "      <th>2</th>\n",
       "      <td>bash-command</td>\n",
       "      <td>0</td>\n",
       "      <td>2019-08-14 15:46:27.404601+00:00</td>\n",
       "      <td>attacker</td>\n",
       "      <td>service postgresql start</td>\n",
       "      <td>10.0.135.83</td>\n",
       "      <td>root</td>\n",
       "      <td>/root</td>\n",
       "    </tr>\n",
       "    <tr>\n",
       "      <th>3</th>\n",
       "      <td>bash-command</td>\n",
       "      <td>0</td>\n",
       "      <td>2019-08-14 15:46:31.391699+00:00</td>\n",
       "      <td>attacker</td>\n",
       "      <td>msfdb init</td>\n",
       "      <td>10.0.135.83</td>\n",
       "      <td>root</td>\n",
       "      <td>/root</td>\n",
       "    </tr>\n",
       "    <tr>\n",
       "      <th>4</th>\n",
       "      <td>bash-command</td>\n",
       "      <td>0</td>\n",
       "      <td>2019-08-14 15:46:34.560332+00:00</td>\n",
       "      <td>attacker</td>\n",
       "      <td>msfconsole</td>\n",
       "      <td>10.0.135.83</td>\n",
       "      <td>root</td>\n",
       "      <td>/root</td>\n",
       "    </tr>\n",
       "  </tbody>\n",
       "</table>\n",
       "</div>"
      ],
      "text/plain": [
       "       cmd_type  pool_id                    timestamp_str  hostname  \\\n",
       "0  bash-command        0 2019-08-14 15:40:19.345589+00:00  attacker   \n",
       "1  bash-command        0 2019-08-14 15:40:34.470540+00:00  attacker   \n",
       "2  bash-command        0 2019-08-14 15:46:27.404601+00:00  attacker   \n",
       "3  bash-command        0 2019-08-14 15:46:31.391699+00:00  attacker   \n",
       "4  bash-command        0 2019-08-14 15:46:34.560332+00:00  attacker   \n",
       "\n",
       "                        cmd           ip username     wd  \n",
       "0           nmap 172.18.1.5  10.0.135.83     root  /root  \n",
       "1  nmap -A -p 22 172.18.1.5  10.0.135.83     root  /root  \n",
       "2  service postgresql start  10.0.135.83     root  /root  \n",
       "3                msfdb init  10.0.135.83     root  /root  \n",
       "4                msfconsole  10.0.135.83     root  /root  "
      ]
     },
     "execution_count": 9,
     "metadata": {},
     "output_type": "execute_result"
    }
   ],
   "source": [
    "# data.head(10)\n",
    "data = data.drop([\"sandbox_id\"], axis=1)\n",
    "data.head()"
   ]
  },
  {
   "cell_type": "code",
   "execution_count": 3,
   "metadata": {},
   "outputs": [
    {
     "name": "stdout",
     "output_type": "stream",
     "text": [
      "<class 'pandas.core.frame.DataFrame'>\n",
      "RangeIndex: 118 entries, 0 to 117\n",
      "Data columns (total 9 columns):\n",
      " #   Column         Non-Null Count  Dtype              \n",
      "---  ------         --------------  -----              \n",
      " 0   cmd_type       118 non-null    object             \n",
      " 1   pool_id        118 non-null    int64              \n",
      " 2   sandbox_id     118 non-null    int64              \n",
      " 3   timestamp_str  118 non-null    datetime64[ns, UTC]\n",
      " 4   hostname       118 non-null    object             \n",
      " 5   cmd            118 non-null    object             \n",
      " 6   ip             118 non-null    object             \n",
      " 7   username       40 non-null     object             \n",
      " 8   wd             40 non-null     object             \n",
      "dtypes: datetime64[ns, UTC](1), int64(2), object(6)\n",
      "memory usage: 8.4+ KB\n"
     ]
    }
   ],
   "source": [
    "data.info()"
   ]
  },
  {
   "cell_type": "code",
   "execution_count": 25,
   "metadata": {},
   "outputs": [
    {
     "data": {
      "text/plain": [
       "0      /root\n",
       "1      /root\n",
       "2      /root\n",
       "3      /root\n",
       "4      /root\n",
       "       ...  \n",
       "113    /root\n",
       "114      NaN\n",
       "115      NaN\n",
       "116      NaN\n",
       "117    /root\n",
       "Name: wd, Length: 118, dtype: object"
      ]
     },
     "execution_count": 25,
     "metadata": {},
     "output_type": "execute_result"
    }
   ],
   "source": [
    "data[\"wd\"]"
   ]
  },
  {
   "cell_type": "code",
   "execution_count": 36,
   "metadata": {},
   "outputs": [
    {
     "data": {
      "text/html": [
       "<div>\n",
       "<style scoped>\n",
       "    .dataframe tbody tr th:only-of-type {\n",
       "        vertical-align: middle;\n",
       "    }\n",
       "\n",
       "    .dataframe tbody tr th {\n",
       "        vertical-align: top;\n",
       "    }\n",
       "\n",
       "    .dataframe thead th {\n",
       "        text-align: right;\n",
       "    }\n",
       "</style>\n",
       "<table border=\"1\" class=\"dataframe\">\n",
       "  <thead>\n",
       "    <tr style=\"text-align: right;\">\n",
       "      <th></th>\n",
       "      <th>cmd_type</th>\n",
       "      <th>pool_id</th>\n",
       "      <th>sandbox_id</th>\n",
       "      <th>timestamp_str</th>\n",
       "      <th>hostname</th>\n",
       "      <th>cmd</th>\n",
       "      <th>ip</th>\n",
       "      <th>username</th>\n",
       "      <th>wd</th>\n",
       "    </tr>\n",
       "  </thead>\n",
       "  <tbody>\n",
       "    <tr>\n",
       "      <th>5</th>\n",
       "      <td>msf-command</td>\n",
       "      <td>0</td>\n",
       "      <td>396</td>\n",
       "      <td>2019-08-14 15:46:50.311978+00:00</td>\n",
       "      <td>attacker</td>\n",
       "      <td>workspace</td>\n",
       "      <td>10.0.135.83</td>\n",
       "      <td>NaN</td>\n",
       "      <td>NaN</td>\n",
       "    </tr>\n",
       "    <tr>\n",
       "      <th>6</th>\n",
       "      <td>msf-command</td>\n",
       "      <td>0</td>\n",
       "      <td>396</td>\n",
       "      <td>2019-08-14 15:47:00.207530+00:00</td>\n",
       "      <td>attacker</td>\n",
       "      <td>search openssh</td>\n",
       "      <td>10.0.135.83</td>\n",
       "      <td>NaN</td>\n",
       "      <td>NaN</td>\n",
       "    </tr>\n",
       "    <tr>\n",
       "      <th>12</th>\n",
       "      <td>msf-command</td>\n",
       "      <td>0</td>\n",
       "      <td>396</td>\n",
       "      <td>2019-08-14 15:58:52.640366+00:00</td>\n",
       "      <td>attacker</td>\n",
       "      <td>search libssh</td>\n",
       "      <td>10.0.135.83</td>\n",
       "      <td>NaN</td>\n",
       "      <td>NaN</td>\n",
       "    </tr>\n",
       "    <tr>\n",
       "      <th>13</th>\n",
       "      <td>msf-command</td>\n",
       "      <td>0</td>\n",
       "      <td>396</td>\n",
       "      <td>2019-08-14 15:59:09.186093+00:00</td>\n",
       "      <td>attacker</td>\n",
       "      <td>use 0</td>\n",
       "      <td>10.0.135.83</td>\n",
       "      <td>NaN</td>\n",
       "      <td>NaN</td>\n",
       "    </tr>\n",
       "    <tr>\n",
       "      <th>14</th>\n",
       "      <td>msf-command</td>\n",
       "      <td>0</td>\n",
       "      <td>396</td>\n",
       "      <td>2019-08-14 15:59:17.189930+00:00</td>\n",
       "      <td>attacker</td>\n",
       "      <td>show options</td>\n",
       "      <td>10.0.135.83</td>\n",
       "      <td>NaN</td>\n",
       "      <td>NaN</td>\n",
       "    </tr>\n",
       "    <tr>\n",
       "      <th>...</th>\n",
       "      <td>...</td>\n",
       "      <td>...</td>\n",
       "      <td>...</td>\n",
       "      <td>...</td>\n",
       "      <td>...</td>\n",
       "      <td>...</td>\n",
       "      <td>...</td>\n",
       "      <td>...</td>\n",
       "      <td>...</td>\n",
       "    </tr>\n",
       "    <tr>\n",
       "      <th>109</th>\n",
       "      <td>msf-command</td>\n",
       "      <td>0</td>\n",
       "      <td>396</td>\n",
       "      <td>2019-08-14 16:42:08.516211+00:00</td>\n",
       "      <td>attacker</td>\n",
       "      <td>run</td>\n",
       "      <td>10.0.135.83</td>\n",
       "      <td>NaN</td>\n",
       "      <td>NaN</td>\n",
       "    </tr>\n",
       "    <tr>\n",
       "      <th>110</th>\n",
       "      <td>msf-command</td>\n",
       "      <td>0</td>\n",
       "      <td>396</td>\n",
       "      <td>2019-08-14 16:42:30.950962+00:00</td>\n",
       "      <td>attacker</td>\n",
       "      <td>set lhost 10.0.135.83</td>\n",
       "      <td>10.0.135.83</td>\n",
       "      <td>NaN</td>\n",
       "      <td>NaN</td>\n",
       "    </tr>\n",
       "    <tr>\n",
       "      <th>114</th>\n",
       "      <td>msf-command</td>\n",
       "      <td>0</td>\n",
       "      <td>396</td>\n",
       "      <td>2019-08-14 17:18:03.410313+00:00</td>\n",
       "      <td>attacker</td>\n",
       "      <td>sessions -i 1</td>\n",
       "      <td>10.0.135.83</td>\n",
       "      <td>NaN</td>\n",
       "      <td>NaN</td>\n",
       "    </tr>\n",
       "    <tr>\n",
       "      <th>115</th>\n",
       "      <td>msf-command</td>\n",
       "      <td>0</td>\n",
       "      <td>396</td>\n",
       "      <td>2019-08-14 17:18:04.825660+00:00</td>\n",
       "      <td>attacker</td>\n",
       "      <td>exit</td>\n",
       "      <td>10.0.135.83</td>\n",
       "      <td>NaN</td>\n",
       "      <td>NaN</td>\n",
       "    </tr>\n",
       "    <tr>\n",
       "      <th>116</th>\n",
       "      <td>msf-command</td>\n",
       "      <td>0</td>\n",
       "      <td>396</td>\n",
       "      <td>2019-08-14 17:18:07.658224+00:00</td>\n",
       "      <td>attacker</td>\n",
       "      <td>exit -y</td>\n",
       "      <td>10.0.135.83</td>\n",
       "      <td>NaN</td>\n",
       "      <td>NaN</td>\n",
       "    </tr>\n",
       "  </tbody>\n",
       "</table>\n",
       "<p>78 rows × 9 columns</p>\n",
       "</div>"
      ],
      "text/plain": [
       "        cmd_type  pool_id  sandbox_id                    timestamp_str  \\\n",
       "5    msf-command        0         396 2019-08-14 15:46:50.311978+00:00   \n",
       "6    msf-command        0         396 2019-08-14 15:47:00.207530+00:00   \n",
       "12   msf-command        0         396 2019-08-14 15:58:52.640366+00:00   \n",
       "13   msf-command        0         396 2019-08-14 15:59:09.186093+00:00   \n",
       "14   msf-command        0         396 2019-08-14 15:59:17.189930+00:00   \n",
       "..           ...      ...         ...                              ...   \n",
       "109  msf-command        0         396 2019-08-14 16:42:08.516211+00:00   \n",
       "110  msf-command        0         396 2019-08-14 16:42:30.950962+00:00   \n",
       "114  msf-command        0         396 2019-08-14 17:18:03.410313+00:00   \n",
       "115  msf-command        0         396 2019-08-14 17:18:04.825660+00:00   \n",
       "116  msf-command        0         396 2019-08-14 17:18:07.658224+00:00   \n",
       "\n",
       "     hostname                    cmd           ip username   wd  \n",
       "5    attacker              workspace  10.0.135.83      NaN  NaN  \n",
       "6    attacker         search openssh  10.0.135.83      NaN  NaN  \n",
       "12   attacker          search libssh  10.0.135.83      NaN  NaN  \n",
       "13   attacker                  use 0  10.0.135.83      NaN  NaN  \n",
       "14   attacker           show options  10.0.135.83      NaN  NaN  \n",
       "..        ...                    ...          ...      ...  ...  \n",
       "109  attacker                    run  10.0.135.83      NaN  NaN  \n",
       "110  attacker  set lhost 10.0.135.83  10.0.135.83      NaN  NaN  \n",
       "114  attacker          sessions -i 1  10.0.135.83      NaN  NaN  \n",
       "115  attacker                   exit  10.0.135.83      NaN  NaN  \n",
       "116  attacker                exit -y  10.0.135.83      NaN  NaN  \n",
       "\n",
       "[78 rows x 9 columns]"
      ]
     },
     "execution_count": 36,
     "metadata": {},
     "output_type": "execute_result"
    }
   ],
   "source": [
    "(data[data[\"cmd_type\"] == \"msf-command\"])"
   ]
  },
  {
   "cell_type": "code",
   "execution_count": 37,
   "metadata": {},
   "outputs": [
    {
     "data": {
      "text/plain": [
       "0               nmap 172.18.1.5\n",
       "1      nmap -A -p 22 172.18.1.5\n",
       "2      service postgresql start\n",
       "3                    msfdb init\n",
       "4                    msfconsole\n",
       "                 ...           \n",
       "113                        exit\n",
       "114               sessions -i 1\n",
       "115                        exit\n",
       "116                     exit -y\n",
       "117                        exit\n",
       "Name: cmd, Length: 118, dtype: object"
      ]
     },
     "execution_count": 37,
     "metadata": {},
     "output_type": "execute_result"
    }
   ],
   "source": [
    "data[\"cmd\"]"
   ]
  },
  {
   "cell_type": "code",
   "execution_count": 40,
   "metadata": {},
   "outputs": [
    {
     "data": {
      "text/plain": [
       "msf-command     78\n",
       "bash-command    40\n",
       "Name: cmd_type, dtype: int64"
      ]
     },
     "execution_count": 40,
     "metadata": {},
     "output_type": "execute_result"
    }
   ],
   "source": [
    "data[\"cmd_type\"].value_counts()"
   ]
  },
  {
   "cell_type": "code",
   "execution_count": null,
   "metadata": {},
   "outputs": [],
   "source": []
  }
 ],
 "metadata": {
  "kernelspec": {
   "display_name": "Python 3",
   "language": "python",
   "name": "python3"
  },
  "language_info": {
   "codemirror_mode": {
    "name": "ipython",
    "version": 3
   },
   "file_extension": ".py",
   "mimetype": "text/x-python",
   "name": "python",
   "nbconvert_exporter": "python",
   "pygments_lexer": "ipython3",
   "version": "3.11.1"
  }
 },
 "nbformat": 4,
 "nbformat_minor": 2
}
